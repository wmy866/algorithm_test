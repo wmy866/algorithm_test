{
  "nbformat": 4,
  "nbformat_minor": 0,
  "metadata": {
    "colab": {
      "name": "bubblesort.ipynb",
      "provenance": [],
      "include_colab_link": true
    },
    "kernelspec": {
      "name": "python3",
      "display_name": "Python 3"
    }
  },
  "cells": [
    {
      "cell_type": "markdown",
      "metadata": {
        "id": "view-in-github",
        "colab_type": "text"
      },
      "source": [
        "<a href=\"https://colab.research.google.com/github/wmy866/algorithm_test/blob/master/bubblesort_0930.ipynb\" target=\"_parent\"><img src=\"https://colab.research.google.com/assets/colab-badge.svg\" alt=\"Open In Colab\"/></a>"
      ]
    },
    {
      "cell_type": "markdown",
      "metadata": {
        "id": "32sgU0StMiof"
      },
      "source": [
        "Bubble sort (氣泡排序)"
      ]
    },
    {
      "cell_type": "code",
      "metadata": {
        "id": "esB_4fSeMLYJ",
        "outputId": "bf9887ff-1e70-40e9-afb2-ca983640549e",
        "colab": {
          "base_uri": "https://localhost:8080/",
          "height": 151
        }
      },
      "source": [
        "def Bubble_Sort(datas):\n",
        "    for i in range(1, len(datas)): # \n",
        "        for j in range(len(datas)-i):   # \n",
        "            if datas[j] > datas[j+1]:   # \n",
        "                datas[j], datas[j+1] = datas[j+1], datas[j]\n",
        "    return datas\n",
        "\n",
        "\n",
        "if __name__ == '__main__':\n",
        "    #import random\n",
        "    #a = list(range(20))\n",
        "    #random.shuffle(a)\n",
        "    n1 = int(input('請任意輸入第一數字：'))         #使用者輸入6個數字\n",
        "    n2 = int(input('請任意輸入第二數字：'))\n",
        "    n3 = int(input('請任意輸入第三數字：'))\n",
        "    n4 = int(input('請任意輸入第四數字：'))\n",
        "    n5 = int(input('請任意輸入第五數字：'))\n",
        "    n6 = int(input('請任意輸入第六數字：'))\n",
        "    allnum = [n1,n2,n3,n4,n5,n6]              #將輸入的六個數字裝入一陣列\n",
        "    print(allnum)                      \n",
        "    a = Bubble_Sort(allnum)\n",
        "    print(a)"
      ],
      "execution_count": 7,
      "outputs": [
        {
          "output_type": "stream",
          "text": [
            "請任意輸入第一數字：0\n",
            "請任意輸入第二數字：100\n",
            "請任意輸入第三數字：5\n",
            "請任意輸入第四數字：79\n",
            "請任意輸入第五數字：20\n",
            "請任意輸入第六數字：33\n",
            "[0, 100, 5, 79, 20, 33]\n",
            "[0, 5, 20, 33, 79, 100]\n"
          ],
          "name": "stdout"
        }
      ]
    },
    {
      "cell_type": "markdown",
      "metadata": {
        "id": "MOQ_aZKnM-wL"
      },
      "source": [
        "請加入註解，並將程式修改為加入六個數做氣泡排序\n"
      ]
    }
  ]
}