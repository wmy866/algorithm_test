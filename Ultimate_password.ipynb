{
  "nbformat": 4,
  "nbformat_minor": 0,
  "metadata": {
    "colab": {
      "name": "Ultimate password.ipynb",
      "provenance": [],
      "authorship_tag": "ABX9TyNUNxuqpyoS7HeEfQfg669g",
      "include_colab_link": true
    },
    "kernelspec": {
      "name": "python3",
      "display_name": "Python 3"
    }
  },
  "cells": [
    {
      "cell_type": "markdown",
      "metadata": {
        "id": "view-in-github",
        "colab_type": "text"
      },
      "source": [
        "<a href=\"https://colab.research.google.com/github/wmy866/algorithm_test/blob/master/Ultimate_password.ipynb\" target=\"_parent\"><img src=\"https://colab.research.google.com/assets/colab-badge.svg\" alt=\"Open In Colab\"/></a>"
      ]
    },
    {
      "cell_type": "code",
      "metadata": {
        "id": "0n_LzePG9Lo6",
        "outputId": "c2772f18-5227-431c-950f-4876d1d6ea08",
        "colab": {
          "base_uri": "https://localhost:8080/"
        }
      },
      "source": [
        "import random\n",
        "\n",
        "lowest = 1\n",
        "highest = 100\n",
        "AnsNum = random.randint(lowest,highest)\n",
        "print(AnsNum)\n",
        "\n",
        "while True:\n",
        "  inputNum = int(input(print(\"請輸入\" + str(lowest) + \"-\" + str(highest) + \"的數字：\")))\n",
        "  if inputNum < lowest or inputNum > highest:\n",
        "    print(\"請輸入正確範圍。1\")\n",
        "    continue\n",
        "  else:\n",
        "    if inputNum > AnsNum:\n",
        "      highest = inputNum\n",
        "      continue\n",
        "    elif inputNum < AnsNum:\n",
        "      lowest = inputNum\n",
        "      continue\n",
        "    else:\n",
        "      print(\"你答對了!\")\n",
        "      break"
      ],
      "execution_count": 25,
      "outputs": [
        {
          "output_type": "stream",
          "text": [
            "14\n",
            "請輸入1-100的數字：\n",
            "0\n",
            "請輸入正確範圍。\n",
            "請輸入1-100的數字：\n",
            "101\n",
            "請輸入正確範圍。\n",
            "請輸入1-100的數字：\n",
            "8\n",
            "請輸入8-100的數字：\n",
            "99\n",
            "請輸入8-99的數字：\n",
            "10\n",
            "請輸入10-99的數字：\n",
            "13\n",
            "請輸入13-99的數字：\n",
            "88\n",
            "請輸入13-88的數字：\n",
            "75\n",
            "請輸入13-75的數字：\n",
            "5\n",
            "請輸入正確範圍。\n",
            "請輸入13-75的數字：\n",
            "100\n",
            "請輸入正確範圍。\n",
            "請輸入13-75的數字：\n",
            "15\n",
            "請輸入13-15的數字：\n",
            "14\n",
            "你答對了!\n"
          ],
          "name": "stdout"
        }
      ]
    }
  ]
}