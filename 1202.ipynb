{
  "nbformat": 4,
  "nbformat_minor": 0,
  "metadata": {
    "colab": {
      "name": "1202.ipynb",
      "provenance": [],
      "authorship_tag": "ABX9TyNg1NdfpUIpQP7B/zvutXmm",
      "include_colab_link": true
    },
    "kernelspec": {
      "name": "python3",
      "display_name": "Python 3"
    }
  },
  "cells": [
    {
      "cell_type": "markdown",
      "metadata": {
        "id": "view-in-github",
        "colab_type": "text"
      },
      "source": [
        "<a href=\"https://colab.research.google.com/github/wmy866/algorithm_test/blob/master/1202.ipynb\" target=\"_parent\"><img src=\"https://colab.research.google.com/assets/colab-badge.svg\" alt=\"Open In Colab\"/></a>"
      ]
    },
    {
      "cell_type": "code",
      "metadata": {
        "colab": {
          "base_uri": "https://localhost:8080/"
        },
        "id": "TJQBZoYIJDwX",
        "outputId": "47592878-6c8f-436e-a495-b6352c012807"
      },
      "source": [
        "#t = 面額\n",
        "t = [25,20,5,1]\n",
        "\n",
        "#n = 多少錢\n",
        "def change(t,n):\n",
        "\n",
        "  m = [0 for _ in range(len(t))]\n",
        "  for i, money in enumerate(t):\n",
        "    m[i] = n // money\n",
        "    n = n % money\n",
        "    return m, n\n",
        "\n",
        "print(change(t, 41))"
      ],
      "execution_count": 1,
      "outputs": [
        {
          "output_type": "stream",
          "text": [
            "([1, 0, 0, 0], 16)\n"
          ],
          "name": "stdout"
        }
      ]
    }
  ]
}