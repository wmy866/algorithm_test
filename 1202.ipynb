{
  "nbformat": 4,
  "nbformat_minor": 0,
  "metadata": {
    "colab": {
      "name": "1202.ipynb",
      "provenance": [],
      "authorship_tag": "ABX9TyNDdfXqOf2Bb7UGvDQDLVKl",
      "include_colab_link": true
    },
    "kernelspec": {
      "name": "python3",
      "display_name": "Python 3"
    }
  },
  "cells": [
    {
      "cell_type": "markdown",
      "metadata": {
        "id": "view-in-github",
        "colab_type": "text"
      },
      "source": [
        "<a href=\"https://colab.research.google.com/github/wmy866/algorithm_test/blob/master/1202.ipynb\" target=\"_parent\"><img src=\"https://colab.research.google.com/assets/colab-badge.svg\" alt=\"Open In Colab\"/></a>"
      ]
    },
    {
      "cell_type": "code",
      "metadata": {
        "colab": {
          "base_uri": "https://localhost:8080/"
        },
        "id": "yR_kmjh-OIWQ",
        "outputId": "313aede8-3347-4883-9017-05acd56aec04"
      },
      "source": [
        "###零錢問題 - 貪婪法 (自行輸入值)\n",
        "\n",
        "#t = 面額\n",
        "t = [25,20,5,1]\n",
        "\n",
        "#n = 多少錢\n",
        "def change(t,n):\n",
        "\n",
        "  m = [0 for _ in range(len(t))]\n",
        "  for i, money in enumerate(t):\n",
        "    m[i] = n // money\n",
        "    n = n % money\n",
        "    print (m,n)   #每次跑完就print一次\n",
        "\n",
        "price = int(input(\"請輸入要找的金額：\"))    #自訂輸入金額\n",
        "change(t,price)"
      ],
      "execution_count": 29,
      "outputs": [
        {
          "output_type": "stream",
          "text": [
            "請輸入要找的金額：41\n",
            "[1, 0, 0, 0] 16\n",
            "[1, 0, 0, 0] 16\n",
            "[1, 0, 3, 0] 1\n",
            "[1, 0, 3, 1] 0\n"
          ],
          "name": "stdout"
        }
      ]
    },
    {
      "cell_type": "code",
      "metadata": {
        "colab": {
          "base_uri": "https://localhost:8080/"
        },
        "id": "dMNE0pgTSLrT",
        "outputId": "f0691a91-d887-4ebe-b315-69e7e64849de"
      },
      "source": [
        "###零錢問題 - 動態規劃法 (自行輸入值)\n",
        "\n",
        "t = [25,20,5,1]\n",
        "\n",
        "def coinChange(t, amount):\n",
        "      \"\"\"\n",
        "      :type coins: List[int]\n",
        "      :type amount: int\n",
        "      :rtype: int\n",
        "      \"\"\"\n",
        "      dp = [amount + 1 for _ in range(amount + 1)]\n",
        "      dp[0] = 0\n",
        "      for coin in t:\n",
        "          for i in range(coin, amount + 1):\n",
        "              dp[i] = min(dp[i], dp[i - coin] + 1)\n",
        "      return dp[amount] if dp[amount] < amount + 1 else -1\n",
        "\n",
        "price = int(input(\"請輸入要找的金額：\"))   \n",
        "print(\"最少需要%d個硬幣\"% coinChange(t, price))"
      ],
      "execution_count": 73,
      "outputs": [
        {
          "output_type": "stream",
          "text": [
            "請輸入要找的金額：41\n",
            "最少需要3個硬幣\n"
          ],
          "name": "stdout"
        }
      ]
    },
    {
      "cell_type": "code",
      "metadata": {
        "colab": {
          "base_uri": "https://localhost:8080/"
        },
        "id": "IvZMSEMEqMle",
        "outputId": "043fd580-6ebf-4e30-d3ee-b7285084897d"
      },
      "source": [
        "###背包問題 - 貪婪法\n",
        "\n",
        "#各項體積\n",
        "v = [5,1,4,3,2]\n",
        "#各項價值\n",
        "val = [17000,35000,60000,9000,20000]\n",
        "#各項編號\n",
        "num = [1,2,3,4,5]\n",
        "#設定背包負重\n",
        "VS = eval(str(10))\n",
        "#設定物品數量\n",
        "S = eval(str(5))\n",
        "\n",
        "\n",
        "print(\"各項東西訊息：\")\n",
        "print(\"編號：{}\".format(num))\n",
        "print(\"重量：{}\".format(v))\n",
        "print(\"價格：{}\".format(val))\n",
        "print()\n",
        "\n",
        "#以價格為排序\n",
        "for i in range(S):\n",
        "  for j in range(i+1,S):\n",
        "    if val[i] < val[j]:\n",
        "            v[i],v[j] = v[j],v[i]\n",
        "            val[i],val[j] = val[j],val[i]\n",
        "            num[i],num[j] = num[j],num[i]\n",
        "\n",
        "print(\"價格由大到小排序過後：\")\n",
        "print(\"編號：{}\".format(num))\n",
        "print(\"重量：{}\".format(v))\n",
        "print(\"價格：{}\".format(val))\n",
        "print()\n",
        "\n",
        "#不可分割物品\n",
        "#目前背包使用體積\n",
        "v1_now = 0\n",
        "#目前背包物品的價格\n",
        "val1_now = 0\n",
        "\n",
        "print(\"已加入背包的物品編號有：\",end='')\n",
        "for i in range(S):\n",
        "    if (v[i] + v1_now) <= VS:\n",
        "        v1_now += v[i]\n",
        "        val1_now += val[i]\n",
        "        print(num[i],end=' ')\n",
        "    else:\n",
        "      if v[i] != v[4]:\n",
        "        if (v[i+1] + v1_now) <= VS:\n",
        "          v1_now += v[i+1]\n",
        "          val1_now += val[i+1]\n",
        "          print(num[i+1],end=' ')\n",
        "        else:\n",
        "          break\n",
        "      else:\n",
        "        break\n",
        "print()\n",
        "#背包已使用重量\n",
        "print(\"背包的重量:{}\".format(v1_now))\n",
        "print(\"背包物品的價格:{}\".format(val1_now))"
      ],
      "execution_count": 70,
      "outputs": [
        {
          "output_type": "stream",
          "text": [
            "各項東西訊息：\n",
            "編號：[1, 2, 3, 4, 5]\n",
            "重量：[5, 1, 4, 3, 2]\n",
            "價格：[17000, 35000, 60000, 9000, 20000]\n",
            "\n",
            "價格由大到小排序過後：\n",
            "編號：[3, 2, 5, 1, 4]\n",
            "重量：[4, 1, 2, 5, 3]\n",
            "價格：[60000, 35000, 20000, 17000, 9000]\n",
            "\n",
            "已加入背包的物品編號有：3 2 5 4 \n",
            "背包的重量:10\n",
            "背包物品的價格:124000\n"
          ],
          "name": "stdout"
        }
      ]
    },
    {
      "cell_type": "code",
      "metadata": {
        "colab": {
          "base_uri": "https://localhost:8080/"
        },
        "id": "syljwzR0wZLK",
        "outputId": "72f2f04d-7c48-403b-b5b5-fb48b9d5fcec"
      },
      "source": [
        "###背包問題 - 動態規劃法\n",
        "\n",
        "def backpack_record(n, c, w, v):\n",
        "    #初始化紀錄表\n",
        "    backpack_rec = [[0 for i in range(c + 1)] for i in range(len(n) + 1)]\n",
        "    for i in range(1, len(n)+1):\n",
        "        for j in range(1, c+1):\n",
        "            #使用狀態轉移函數填寫紀錄表\n",
        "            if j < w[i - 1]:\n",
        "                backpack_rec[i][j] = backpack_rec[i - 1][j]\n",
        "            else:\n",
        "                backpack_rec[i][j] = max(backpack_rec[i - 1][j], backpack_rec[i - 1][ j - w[i - 1]] + v[i - 1])\n",
        "    return backpack_rec\n",
        "def backpack_results(n, c, w, res):\n",
        "    print('不超過背包限重的最高價值為：', res[len(n)][c])\n",
        "    x = [False for i in range(len(n)+1)]\n",
        "    j = c\n",
        "    i = len(n)\n",
        "    #回溯\n",
        "    while i>=0:\n",
        "        if res[i][j] > res[i - 1][j]:\n",
        "            x[i] = True\n",
        "            j -= w[i - 1]\n",
        "        i -= 1\n",
        "    print('放入的東西有：')\n",
        "    for i in range(len(n)+1):\n",
        "        if x[i]:\n",
        "            print(n[i-1], end='   ')\n",
        "# 驗證\n",
        "n = ['PS5', 'iPad pro', 'Macbook pro 15', 'HomePod', 'Mac mini']\n",
        "c = 10\n",
        "w = [5,1,4,3,2]\n",
        "v = [17000,35000,60000,9000,20000]\n",
        "res = backpack_record(n, c, w, v)\n",
        "backpack_results(n, c, w, res)"
      ],
      "execution_count": 107,
      "outputs": [
        {
          "output_type": "stream",
          "text": [
            "不超過背包限重的最高價值為： 124000\n",
            "放入的東西有：\n",
            "iPad pro   Macbook pro 15   HomePod   Mac mini   "
          ],
          "name": "stdout"
        }
      ]
    }
  ]
}