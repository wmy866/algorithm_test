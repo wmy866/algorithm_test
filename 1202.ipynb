{
  "nbformat": 4,
  "nbformat_minor": 0,
  "metadata": {
    "colab": {
      "name": "1202.ipynb",
      "provenance": [],
      "authorship_tag": "ABX9TyP0C1IR7vSrMrV5XbVNz2ht",
      "include_colab_link": true
    },
    "kernelspec": {
      "name": "python3",
      "display_name": "Python 3"
    }
  },
  "cells": [
    {
      "cell_type": "markdown",
      "metadata": {
        "id": "view-in-github",
        "colab_type": "text"
      },
      "source": [
        "<a href=\"https://colab.research.google.com/github/wmy866/algorithm_test/blob/master/1202.ipynb\" target=\"_parent\"><img src=\"https://colab.research.google.com/assets/colab-badge.svg\" alt=\"Open In Colab\"/></a>"
      ]
    },
    {
      "cell_type": "code",
      "metadata": {
        "colab": {
          "base_uri": "https://localhost:8080/"
        },
        "id": "yR_kmjh-OIWQ",
        "outputId": "313aede8-3347-4883-9017-05acd56aec04"
      },
      "source": [
        "#t = 面額\n",
        "t = [25,20,5,1]\n",
        "\n",
        "#n = 多少錢\n",
        "def change(t,n):\n",
        "\n",
        "  m = [0 for _ in range(len(t))]\n",
        "  for i, money in enumerate(t):\n",
        "    m[i] = n // money\n",
        "    n = n % money\n",
        "    print (m,n)   #每次跑完就print一次\n",
        "\n",
        "price = int(input(\"請輸入要找的金額：\"))    #自訂輸入金額\n",
        "change(t,price)"
      ],
      "execution_count": 29,
      "outputs": [
        {
          "output_type": "stream",
          "text": [
            "請輸入要找的金額：41\n",
            "[1, 0, 0, 0] 16\n",
            "[1, 0, 0, 0] 16\n",
            "[1, 0, 3, 0] 1\n",
            "[1, 0, 3, 1] 0\n"
          ],
          "name": "stdout"
        }
      ]
    },
    {
      "cell_type": "code",
      "metadata": {
        "colab": {
          "base_uri": "https://localhost:8080/"
        },
        "id": "dMNE0pgTSLrT",
        "outputId": "97c9a226-311e-4ca2-a24e-f3a0c0053837"
      },
      "source": [
        "\n",
        "t = [25,20,5,1]\n",
        "\n",
        "def coinChange(t, amount):\n",
        "      \"\"\"\n",
        "      :type coins: List[int]\n",
        "      :type amount: int\n",
        "      :rtype: int\n",
        "      \"\"\"\n",
        "      dp = [amount + 1 for _ in range(amount + 1)]\n",
        "      dp[0] = 0\n",
        "      for coin in t:\n",
        "          for i in range(coin, amount + 1):\n",
        "              dp[i] = min(dp[i], dp[i - coin] + 1)\n",
        "              print(dp)\n",
        "      return dp[amount] if dp[amount] < amount + 1 else -1\n",
        "\n",
        "price = int(input(\"請輸入要找的金額：\"))   \n",
        "print(coinChange(t, price))"
      ],
      "execution_count": 44,
      "outputs": [
        {
          "output_type": "stream",
          "text": [
            "請輸入要找的金額：3\n",
            "[0, 1, 4, 4]\n",
            "[0, 1, 2, 4]\n",
            "[0, 1, 2, 3]\n",
            "3\n"
          ],
          "name": "stdout"
        }
      ]
    },
    {
      "cell_type": "code",
      "metadata": {
        "colab": {
          "base_uri": "https://localhost:8080/"
        },
        "id": "wj6cEj-BecH4",
        "outputId": "797c8698-1ef8-44c1-da10-567d13986074"
      },
      "source": [
        "\"\"\"\"\n",
        "    author:xuke\n",
        "    实现功能：利用贪心算法求解背包问题\n",
        "\"\"\"\n",
        "\n",
        "#各物品的体积列表\n",
        "v = []\n",
        "#各物品的价值列表\n",
        "val = []\n",
        "#各物品编号\n",
        "num = []\n",
        "#各物品价格/体重\n",
        "v_val = []\n",
        "#输入背包体积\n",
        "VS = eval(input(\"背包体积为：\"))\n",
        "#输入物品种类数\n",
        "S = eval(input(\"物品种类数目为：\"))\n",
        "#输入各物品信息\n",
        "for i in range(S):\n",
        "    num.append(input(\"第{}类物品的编号为：\".format(i+1)))\n",
        "    v.append(eval(input(\"第{}类物品的体积为：\".format(i + 1))))\n",
        "    val.append(eval(input(\"第{}类物品的价值为：\".format(i + 1))))\n",
        "\n",
        "print(\"各物品信息：\")\n",
        "print(\"编号：{}\".format(num))\n",
        "print(\"体积：{}\".format(v))\n",
        "print(\"价值：{}\".format(val))\n",
        "#计算价格与体重之比\n",
        "for i in range(S):\n",
        "    v_val.append(val[i]/v[i])\n",
        "#排序\n",
        "for i in range(S):\n",
        "    for j in range(i+1,S):\n",
        "        if v_val[i] < v_val[j]:\n",
        "            v_val[i],v_val[j] = v_val[j],v_val[i]\n",
        "            v[i],v[j] = v[j],v[i]\n",
        "            val[i],val[j] = val[j],val[i]\n",
        "            num[i],num[j] = num[j],num[i]\n",
        "\n",
        "print(\"编号：{}\".format(num))\n",
        "print(\"体积：{}\".format(v))\n",
        "print(\"价值：{}\".format(val))\n",
        "\n",
        "#不可分割物品\n",
        "#当前背包占用体积\n",
        "v1_now = 0\n",
        "#当前背包内价值\n",
        "val1_now = 0\n",
        "\n",
        "print(\"背包内加入的物品编号有：\",end='')\n",
        "for i in range(S):\n",
        "    if (v[i] + v1_now) <= VS:\n",
        "        v1_now +=v[i]\n",
        "        val1_now += val[i]\n",
        "        print(num[i],end='')\n",
        "    else:\n",
        "        break\n",
        "print()\n",
        "#背包占用体积为\n",
        "print(\"背包体积:{}\".format(v1_now))\n",
        "print(\"背包价值:{}\".format(val1_now))\n",
        "\n",
        "#可分割物品\n",
        "#当前背包占用体积\n",
        "v2_now = 0\n",
        "#当前背包内价值\n",
        "val2_now = 0\n",
        "\n",
        "print(\"背包内加入的物品编号有：\",end='')\n",
        "for i in range(S):\n",
        "    if (v[i] + v2_now) <= VS:\n",
        "        v2_now +=v[i]\n",
        "        val2_now += val[i]\n",
        "        print(num[i],end='')\n",
        "    elif v2_now < VS:\n",
        "        last = VS - v2_now\n",
        "        val2_now +=val[i]*(last/v[i])\n",
        "        v2_now = VS\n",
        "        print(num[i],end='')\n",
        "    elif v2_now == VS:\n",
        "        break\n",
        "\n",
        "print()\n",
        "print(\"背包价值:{}\".format(val2_now))"
      ],
      "execution_count": 48,
      "outputs": [
        {
          "output_type": "stream",
          "text": [
            "背包体积为：10\n",
            "物品种类数目为：5\n",
            "第1类物品的编号为：1\n",
            "第1类物品的体积为：5\n",
            "第1类物品的价值为：17000\n",
            "第2类物品的编号为：2\n",
            "第2类物品的体积为：1\n",
            "第2类物品的价值为：35000\n",
            "第3类物品的编号为：3\n",
            "第3类物品的体积为：4\n",
            "第3类物品的价值为：60000\n",
            "第4类物品的编号为：4\n",
            "第4类物品的体积为：3\n",
            "第4类物品的价值为：9000\n",
            "第5类物品的编号为：5\n",
            "第5类物品的体积为：2\n",
            "第5类物品的价值为：20000\n",
            "各物品信息：\n",
            "编号：['1', '2', '3', '4', '5']\n",
            "体积：[5, 1, 4, 3, 2]\n",
            "价值：[17000, 35000, 60000, 9000, 20000]\n",
            "编号：['2', '3', '5', '1', '4']\n",
            "体积：[1, 4, 2, 5, 3]\n",
            "价值：[35000, 60000, 20000, 17000, 9000]\n",
            "背包内加入的物品编号有：235\n",
            "背包体积:7\n",
            "背包价值:115000\n",
            "背包内加入的物品编号有：2351\n",
            "背包价值:125200.0\n"
          ],
          "name": "stdout"
        }
      ]
    }
  ]
}