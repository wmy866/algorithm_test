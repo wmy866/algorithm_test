{
  "nbformat": 4,
  "nbformat_minor": 0,
  "metadata": {
    "colab": {
      "name": "1202.ipynb",
      "provenance": [],
      "authorship_tag": "ABX9TyPn25QVieDtq71hZIPyFbr1",
      "include_colab_link": true
    },
    "kernelspec": {
      "name": "python3",
      "display_name": "Python 3"
    }
  },
  "cells": [
    {
      "cell_type": "markdown",
      "metadata": {
        "id": "view-in-github",
        "colab_type": "text"
      },
      "source": [
        "<a href=\"https://colab.research.google.com/github/wmy866/algorithm_test/blob/master/1202.ipynb\" target=\"_parent\"><img src=\"https://colab.research.google.com/assets/colab-badge.svg\" alt=\"Open In Colab\"/></a>"
      ]
    },
    {
      "cell_type": "code",
      "metadata": {
        "colab": {
          "base_uri": "https://localhost:8080/"
        },
        "id": "yR_kmjh-OIWQ",
        "outputId": "313aede8-3347-4883-9017-05acd56aec04"
      },
      "source": [
        "#t = 面額\n",
        "t = [25,20,5,1]\n",
        "\n",
        "#n = 多少錢\n",
        "def change(t,n):\n",
        "\n",
        "  m = [0 for _ in range(len(t))]\n",
        "  for i, money in enumerate(t):\n",
        "    m[i] = n // money\n",
        "    n = n % money\n",
        "    print (m,n)   #每次跑完就print一次\n",
        "\n",
        "price = int(input(\"請輸入要找的金額：\"))    #自訂輸入金額\n",
        "change(t,price)"
      ],
      "execution_count": 29,
      "outputs": [
        {
          "output_type": "stream",
          "text": [
            "請輸入要找的金額：41\n",
            "[1, 0, 0, 0] 16\n",
            "[1, 0, 0, 0] 16\n",
            "[1, 0, 3, 0] 1\n",
            "[1, 0, 3, 1] 0\n"
          ],
          "name": "stdout"
        }
      ]
    },
    {
      "cell_type": "code",
      "metadata": {
        "colab": {
          "base_uri": "https://localhost:8080/"
        },
        "id": "dMNE0pgTSLrT",
        "outputId": "97c9a226-311e-4ca2-a24e-f3a0c0053837"
      },
      "source": [
        "\n",
        "t = [25,20,5,1]\n",
        "\n",
        "def coinChange(t, amount):\n",
        "      \"\"\"\n",
        "      :type coins: List[int]\n",
        "      :type amount: int\n",
        "      :rtype: int\n",
        "      \"\"\"\n",
        "      dp = [amount + 1 for _ in range(amount + 1)]\n",
        "      dp[0] = 0\n",
        "      for coin in t:\n",
        "          for i in range(coin, amount + 1):\n",
        "              dp[i] = min(dp[i], dp[i - coin] + 1)\n",
        "              print(dp)\n",
        "      return dp[amount] if dp[amount] < amount + 1 else -1\n",
        "\n",
        "price = int(input(\"請輸入要找的金額：\"))   \n",
        "print(coinChange(t, price))"
      ],
      "execution_count": 44,
      "outputs": [
        {
          "output_type": "stream",
          "text": [
            "請輸入要找的金額：3\n",
            "[0, 1, 4, 4]\n",
            "[0, 1, 2, 4]\n",
            "[0, 1, 2, 3]\n",
            "3\n"
          ],
          "name": "stdout"
        }
      ]
    },
    {
      "cell_type": "code",
      "metadata": {
        "colab": {
          "base_uri": "https://localhost:8080/"
        },
        "id": "wj6cEj-BecH4",
        "outputId": "ddd6ad7a-960c-4dec-d2fb-481fada1263c"
      },
      "source": [
        "goods = [(17, 5), (35, 1), (60, 4), (9, 3), (20, 2)]\n",
        "goods.sort(key=lambda x: x[0]/x[1], reverse=True)\n",
        "def fractional_backpack(goods, w):\n",
        "  total_v = 0\n",
        "  m = [0 for _ in range(len(goods))]\n",
        "  for i, (prize, weight) in enumerate(goods):\n",
        "    if w >= weight:\n",
        "      m[i] = 1\n",
        "      total_v += prize\n",
        "      w -= weight\n",
        "    else:\n",
        "      m[i] = w / weight\n",
        "      total_v += m[i]*prize\n",
        "      w = 0\n",
        "      break\n",
        "  return m, total_v\n",
        "\n",
        "res1, res2 = fractional_backpack(goods, 10) \n",
        "print(res1, res2) # [1, 1, 0.6666666666666666]"
      ],
      "execution_count": 47,
      "outputs": [
        {
          "output_type": "stream",
          "text": [
            "[1, 1, 1, 0.6, 0] 125.2\n"
          ],
          "name": "stdout"
        }
      ]
    }
  ]
}