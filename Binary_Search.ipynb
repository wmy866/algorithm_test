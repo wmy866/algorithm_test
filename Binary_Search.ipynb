{
  "nbformat": 4,
  "nbformat_minor": 0,
  "metadata": {
    "colab": {
      "name": "Binary Search.ipynb",
      "provenance": [],
      "authorship_tag": "ABX9TyNPdeth7mCxd3KJihh1VdrD",
      "include_colab_link": true
    },
    "kernelspec": {
      "name": "python3",
      "display_name": "Python 3"
    }
  },
  "cells": [
    {
      "cell_type": "markdown",
      "metadata": {
        "id": "view-in-github",
        "colab_type": "text"
      },
      "source": [
        "<a href=\"https://colab.research.google.com/github/wmy866/algorithm_test/blob/master/Binary_Search.ipynb\" target=\"_parent\"><img src=\"https://colab.research.google.com/assets/colab-badge.svg\" alt=\"Open In Colab\"/></a>"
      ]
    },
    {
      "cell_type": "code",
      "metadata": {
        "id": "CVWDb28F8V9F",
        "outputId": "d4cf4e9a-6a05-4111-8a15-409d11864bae",
        "colab": {
          "base_uri": "https://localhost:8080/",
          "height": 34
        }
      },
      "source": [
        "def binarySearch (arr,l,r,x):\n",
        "  if(r >= l):\n",
        "    mid = l + (r - l)//2\n",
        "    if arr[mid] == x:\n",
        "      return mid\n",
        "    elif arr[mid] > x:\n",
        "      return binarySearch(arr,l,mid-1,x)\n",
        "    else:\n",
        "      return binarySearch(arr,mid+1,r,x)\n",
        "  else:\n",
        "    return - 1\n",
        "arr = [5,8,9,15,30]\n",
        "x = 9\n",
        "#function call\n",
        "result = binarySearch(arr,0,len(arr)-1,x)\n",
        "\n",
        "if result != -1:\n",
        "  print(\"元素在索引%d\" % result)\n",
        "else:\n",
        "  print(\"陣列中找不到該元素\")"
      ],
      "execution_count": 12,
      "outputs": [
        {
          "output_type": "stream",
          "text": [
            "元素在索引2\n"
          ],
          "name": "stdout"
        }
      ]
    },
    {
      "cell_type": "code",
      "metadata": {
        "id": "ooTmkwQ5_XeM",
        "outputId": "c8d61e92-4d46-4348-e784-19c6bc54bd71",
        "colab": {
          "base_uri": "https://localhost:8080/",
          "height": 336
        }
      },
      "source": [
        "def binarySearch (arr,l,r,x):\n",
        "  if(r >= l):\n",
        "    mid = l + (r - l)//2\n",
        "    if arr[mid] == x:\n",
        "      return mid\n",
        "    elif arr[mid] > x:\n",
        "      return binarySearch(arr,l,mid-1,x)\n",
        "    else:\n",
        "      return binarySearch(arr,mid+1,r,x)\n",
        "  else:\n",
        "    return - 1\n",
        "\n",
        "arr = []\n",
        "i = 0\n",
        "while i <= 4:\n",
        "  inputNum = int(input(print(\"輸入數字：\")))\n",
        "  arr.insert(i,inputNum)\n",
        "  i += 1;\n",
        "print(\"\")\n",
        "print(\"現在陣列裡內容：%s\"% arr)\n",
        "\n",
        "def Bubble_Sort(datas):\n",
        "    for j in range(1, len(datas)): # \n",
        "        for k in range(len(datas)-j):   # \n",
        "            if datas[k] > datas[k+1]:   # \n",
        "                datas[k], datas[k+1] = datas[k+1], datas[k]\n",
        "    return datas\n",
        "\n",
        "sortNum = Bubble_Sort(arr)\n",
        "print(\"-------------------------\")\n",
        "print(\"排序完後陣列內容：%s\"% sortNum)\n",
        "print(\"-------------------------\")\n",
        "\n",
        "x = int(input(print(\"輸入要查詢的數字：\")))\n",
        "print(\"\")\n",
        "\n",
        "#function call\n",
        "result = binarySearch(arr,0,len(arr)-1,x)\n",
        "\n",
        "if result != -1:\n",
        "  print(\"元素在索引%d\" % result)\n",
        "else:\n",
        "  print(\"陣列中找不到該元素\")"
      ],
      "execution_count": 26,
      "outputs": [
        {
          "output_type": "stream",
          "text": [
            "輸入數字：\n",
            "99\n",
            "輸入數字：\n",
            "500\n",
            "輸入數字：\n",
            "1\n",
            "輸入數字：\n",
            "75\n",
            "輸入數字：\n",
            "85\n",
            "\n",
            "現在陣列裡內容：[99, 500, 1, 75, 85]\n",
            "-------------------------\n",
            "排序完後陣列內容：[1, 75, 85, 99, 500]\n",
            "-------------------------\n",
            "輸入要查詢的數字：\n",
            "76\n",
            "\n",
            "陣列中找不到該元素\n"
          ],
          "name": "stdout"
        }
      ]
    }
  ]
}