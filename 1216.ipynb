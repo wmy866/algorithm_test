{
  "nbformat": 4,
  "nbformat_minor": 0,
  "metadata": {
    "colab": {
      "name": "1216.ipynb",
      "provenance": [],
      "authorship_tag": "ABX9TyPBHz0bfBoISx825iNtdIgD",
      "include_colab_link": true
    },
    "kernelspec": {
      "name": "python3",
      "display_name": "Python 3"
    }
  },
  "cells": [
    {
      "cell_type": "markdown",
      "metadata": {
        "id": "view-in-github",
        "colab_type": "text"
      },
      "source": [
        "<a href=\"https://colab.research.google.com/github/wmy866/algorithm_test/blob/master/1216.ipynb\" target=\"_parent\"><img src=\"https://colab.research.google.com/assets/colab-badge.svg\" alt=\"Open In Colab\"/></a>"
      ]
    },
    {
      "cell_type": "markdown",
      "metadata": {
        "id": "e8yyrkGkdtpV"
      },
      "source": [
        "裝箱問題(bin packing problem)：\r\n",
        "  又稱'集裝優化'，現在有N個物品，以及數個容量為C的箱子，試問在不超過箱子容量的情況下，使用數量最少的箱子將所有的物品全部裝入箱子內。"
      ]
    },
    {
      "cell_type": "markdown",
      "metadata": {
        "id": "s1aZ0ZSWfJYD"
      },
      "source": [
        "判斷問題：是否存在一分配方法使所需要的箱子數目 <= k，其中 k 是一常數？(NP-complete問題)"
      ]
    },
    {
      "cell_type": "code",
      "metadata": {
        "colab": {
          "base_uri": "https://localhost:8080/"
        },
        "id": "VTYfecrhjwr4",
        "outputId": "9edcb681-f326-4081-9525-6bb9233e780e"
      },
      "source": [
        "def get_min_boxes(things,box_weight):\r\n",
        "    things=sorted(things,reverse=True) #將數據由大到小排列\r\n",
        "    print(things)\r\n",
        "    m=len(things)-1;count=0\r\n",
        "    for i in range(len(things)):\r\n",
        "        sum=0\r\n",
        "        print('{',end='')\r\n",
        "        sum=things[i]\r\n",
        "        print(things[i],' ',end='')\r\n",
        "        while m>=0:\r\n",
        "            j=m\r\n",
        "            sum+=things[j]\r\n",
        "            if sum>box_weight:\r\n",
        "                count+=1\r\n",
        "                break\r\n",
        "            print(things[j],'',end='')\r\n",
        "            m-=1\r\n",
        "        if j==i:\r\n",
        "            # count+=1\r\n",
        "            print('}')\r\n",
        "            break\r\n",
        "        print('}')\r\n",
        " \r\n",
        "    print('最少需要使用',count,'箱容積為',box_weight,'的箱子')\r\n",
        "if __name__=='__main__':\r\n",
        "    #things=[4,8,1,4,2,1]\r\n",
        "    things = []\r\n",
        "    thing = int(input(\"請輸入物品重量(結束時請輸入-1：)\"))\r\n",
        "    while thing != -1:\r\n",
        "      things.append(thing) \r\n",
        "      thing = int(input(\"請輸入物品重量(結束時請輸入-1：)\")) \r\n",
        "    box_weight=int(input(\"請輸入箱子最大容積：\"))\r\n",
        "    # things=[3,15,14,19,13,4,10,4,20,3,1,7,13,8,18,18,20,5,9,8]\r\n",
        "    # box_weight=20\r\n",
        "    get_min_boxes(things,box_weight)"
      ],
      "execution_count": 11,
      "outputs": [
        {
          "output_type": "stream",
          "text": [
            "請輸入物品重量(結束時請輸入-1：)4\n",
            "請輸入物品重量(結束時請輸入-1：)8\n",
            "請輸入物品重量(結束時請輸入-1：)1\n",
            "請輸入物品重量(結束時請輸入-1：)4\n",
            "請輸入物品重量(結束時請輸入-1：)2\n",
            "請輸入物品重量(結束時請輸入-1：)1\n",
            "請輸入物品重量(結束時請輸入-1：)-1\n",
            "請輸入箱子最大容積：10\n",
            "[8, 4, 4, 2, 1, 1]\n",
            "{8  1 1 }\n",
            "{4  2 4 }\n",
            "最少需要使用 2 箱容積為 10 的箱子\n"
          ],
          "name": "stdout"
        }
      ]
    }
  ]
}