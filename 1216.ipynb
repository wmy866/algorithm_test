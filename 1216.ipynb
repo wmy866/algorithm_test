{
  "nbformat": 4,
  "nbformat_minor": 0,
  "metadata": {
    "colab": {
      "name": "1216.ipynb",
      "provenance": [],
      "authorship_tag": "ABX9TyNs44qEg4E/PpCJry7BhHyc",
      "include_colab_link": true
    },
    "kernelspec": {
      "name": "python3",
      "display_name": "Python 3"
    }
  },
  "cells": [
    {
      "cell_type": "markdown",
      "metadata": {
        "id": "view-in-github",
        "colab_type": "text"
      },
      "source": [
        "<a href=\"https://colab.research.google.com/github/wmy866/algorithm_test/blob/master/1216.ipynb\" target=\"_parent\"><img src=\"https://colab.research.google.com/assets/colab-badge.svg\" alt=\"Open In Colab\"/></a>"
      ]
    },
    {
      "cell_type": "markdown",
      "metadata": {
        "id": "e8yyrkGkdtpV"
      },
      "source": [
        "裝箱問題(bin packing problem)：\r\n",
        "  又稱'集裝優化'，現在有N個物品，以及數個容量為C的箱子，試問在不超過箱子容量的情況下，使用數量最少的箱子將所有的物品全部裝入箱子內。"
      ]
    },
    {
      "cell_type": "markdown",
      "metadata": {
        "id": "s1aZ0ZSWfJYD"
      },
      "source": [
        "判斷問題：是否存在一分配方法使所需要的箱子數目 <= k，其中 k 是一常數？(NP-complete問題)"
      ]
    },
    {
      "cell_type": "code",
      "metadata": {
        "colab": {
          "base_uri": "https://localhost:8080/"
        },
        "id": "VTYfecrhjwr4",
        "outputId": "f6eefdad-d2e8-47eb-f9ee-3c9f812922a8"
      },
      "source": [
        "def get_min_boxes(things,box_weight):\r\n",
        "    things=sorted(things,reverse=True) #先將物品由大到小排列\r\n",
        "    print(\"\\n所有物品由容量的大到小排列：%s\" %things)\r\n",
        "    m=len(things)-1;count=0\r\n",
        "    for i in range(len(things)):\r\n",
        "        sum=0 #因還沒放入任何物品所以總值為0\r\n",
        "        print('{ ',end='')\r\n",
        "        sum=things[i] #先把第一個(最大)放入箱子\r\n",
        "        print(things[i],'',end='') #列出放入箱子的物品\r\n",
        "        while m>=0: #當還有未放入箱子的物品時\r\n",
        "            j=m \r\n",
        "            sum+=things[j] #總值再放入排序最後一個(目前最小的)的物品\r\n",
        "            if sum>box_weight: #如果總值超過箱子負荷容量\r\n",
        "                count+=1 #直接+1不放入箱子內\r\n",
        "                break\r\n",
        "            print(things[j],'',end='') #若在箱子承受之內則放入並顯示放入的物品\r\n",
        "            m-=1 #未放入的物品數量-1\r\n",
        "        if j==i:\r\n",
        "            print('}')\r\n",
        "            break\r\n",
        "        print('}')\r\n",
        " \r\n",
        "    print('\\n最少需要使用',count,'箱容量為',box_weight,'的箱子')\r\n",
        "if __name__=='__main__':\r\n",
        "    things = []\r\n",
        "    thing = int(input(\"請輸入物品重量(結束時請輸入-1：)\"))  #自行設定物品數量及容量\r\n",
        "    while thing != -1: #當輸入值不是-1時\r\n",
        "      things.append(thing) #將輸入的值放入things陣列\r\n",
        "      thing = int(input(\"請輸入物品重量(結束時請輸入-1：)\")) #輸入下一值 重複迴圈\r\n",
        "    box_weight=int(input(\"\\n請輸入箱子最大容量：\")) #自行設定箱子最大容量\r\n",
        "    get_min_boxes(things,box_weight)"
      ],
      "execution_count": 14,
      "outputs": [
        {
          "output_type": "stream",
          "text": [
            "請輸入物品重量(結束時請輸入-1：)4\n",
            "請輸入物品重量(結束時請輸入-1：)8\n",
            "請輸入物品重量(結束時請輸入-1：)1\n",
            "請輸入物品重量(結束時請輸入-1：)4\n",
            "請輸入物品重量(結束時請輸入-1：)2\n",
            "請輸入物品重量(結束時請輸入-1：)1\n",
            "請輸入物品重量(結束時請輸入-1：)-1\n",
            "\n",
            "請輸入箱子最大容量：10\n",
            "\n",
            "所有物品由容量的大到小排列：[8, 4, 4, 2, 1, 1]\n",
            "{ 8 1 1 }\n",
            "{ 4 2 4 }\n",
            "\n",
            "最少需要使用 2 箱容量為 10 的箱子\n"
          ],
          "name": "stdout"
        }
      ]
    },
    {
      "cell_type": "markdown",
      "metadata": {
        "id": "3cH-YJGcP0lj"
      },
      "source": [
        "參考連結：\r\n",
        "1.   https://blog.csdn.net/qq_37163152/article/details/84993259\r\n",
        "2.   http://www.csd.nutn.edu.tw/Algorithm/Ch07.pdf\r\n",
        "3.   https://www.mdeditor.tw/pl/p9RR/zh-tw"
      ]
    }
  ]
}