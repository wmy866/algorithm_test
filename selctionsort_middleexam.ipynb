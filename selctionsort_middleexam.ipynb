{
  "nbformat": 4,
  "nbformat_minor": 0,
  "metadata": {
    "colab": {
      "name": "selctionsort.ipynb",
      "provenance": [],
      "collapsed_sections": [],
      "include_colab_link": true
    },
    "kernelspec": {
      "name": "python3",
      "display_name": "Python 3"
    }
  },
  "cells": [
    {
      "cell_type": "markdown",
      "metadata": {
        "id": "view-in-github",
        "colab_type": "text"
      },
      "source": [
        "<a href=\"https://colab.research.google.com/github/wmy866/algorithm_test/blob/master/selctionsort_middleexam.ipynb\" target=\"_parent\"><img src=\"https://colab.research.google.com/assets/colab-badge.svg\" alt=\"Open In Colab\"/></a>"
      ]
    },
    {
      "cell_type": "markdown",
      "metadata": {
        "id": "W-Z0kMaDLJOp"
      },
      "source": [
        "Selection sort (選擇排序)"
      ]
    },
    {
      "cell_type": "code",
      "metadata": {
        "id": "8tM3sv79HQ_V",
        "colab": {
          "base_uri": "https://localhost:8080/"
        },
        "outputId": "a5af7176-c824-466e-ae25-436a333aeed5"
      },
      "source": [
        "def Selction_Sort(datas):\n",
        "    timenum = 0     #一變數設定次數\n",
        "    for i in range(len(datas)-1):                                \n",
        "        min = i # 第一次選從第一數開始,第二次從第二數開始                \n",
        "        for j in range(i+1, len(datas)):    # 用記錄的max數與其他的比較       \n",
        "            if datas[j] < datas[min]:                          \n",
        "                min = j                             \n",
        "\n",
        "        datas[i], datas[min] = datas[min], datas[i]   #將兩值互換，即換位子\n",
        "        timenum += 1                #排序次數+1次\n",
        "        print(\"第%d次排序：\"%timenum, datas)       #顯示此次排序結果                            \n",
        "        print('---'*20)                                 \n",
        "    return datas                                       \n",
        "                                             \n",
        "\n",
        "import random\n",
        "rantimenum = 1      #執行隨機抽取數字次數\n",
        "numlist = []       #建立一空串列\n",
        "for rantimenum in range(8):    #設定隨機抽取數字8次\n",
        "  rannum = random.randint(0,100)    #隨機從0至99抽一數字\n",
        "  numlist.append(rannum)    #將抽取到的數字新增至串列中\n",
        "print(\"原始數列：\",numlist)    #顯示最原始串列\n",
        "print()\n",
        "numlist = Selction_Sort(numlist)  \n",
        "print()\n",
        "print(\"最終排序：\",numlist)    #顯示最終串列"
      ],
      "execution_count": 57,
      "outputs": [
        {
          "output_type": "stream",
          "text": [
            "原始數列： [21, 80, 6, 53, 82, 31, 40, 37]\n",
            "\n",
            "第1次排序： [6, 80, 21, 53, 82, 31, 40, 37]\n",
            "------------------------------------------------------------\n",
            "第2次排序： [6, 21, 80, 53, 82, 31, 40, 37]\n",
            "------------------------------------------------------------\n",
            "第3次排序： [6, 21, 31, 53, 82, 80, 40, 37]\n",
            "------------------------------------------------------------\n",
            "第4次排序： [6, 21, 31, 37, 82, 80, 40, 53]\n",
            "------------------------------------------------------------\n",
            "第5次排序： [6, 21, 31, 37, 40, 80, 82, 53]\n",
            "------------------------------------------------------------\n",
            "第6次排序： [6, 21, 31, 37, 40, 53, 82, 80]\n",
            "------------------------------------------------------------\n",
            "第7次排序： [6, 21, 31, 37, 40, 53, 80, 82]\n",
            "------------------------------------------------------------\n",
            "\n",
            "最終排序： [6, 21, 31, 37, 40, 53, 80, 82]\n"
          ],
          "name": "stdout"
        }
      ]
    }
  ]
}