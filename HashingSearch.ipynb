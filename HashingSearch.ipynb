{
  "nbformat": 4,
  "nbformat_minor": 0,
  "metadata": {
    "colab": {
      "name": "HashingSearch.ipynb",
      "provenance": [],
      "authorship_tag": "ABX9TyObEjGFcllnO/Mgb4gglrki",
      "include_colab_link": true
    },
    "kernelspec": {
      "name": "python3",
      "display_name": "Python 3"
    }
  },
  "cells": [
    {
      "cell_type": "markdown",
      "metadata": {
        "id": "view-in-github",
        "colab_type": "text"
      },
      "source": [
        "<a href=\"https://colab.research.google.com/github/wmy866/algorithm_test/blob/master/HashingSearch.ipynb\" target=\"_parent\"><img src=\"https://colab.research.google.com/assets/colab-badge.svg\" alt=\"Open In Colab\"/></a>"
      ]
    },
    {
      "cell_type": "markdown",
      "metadata": {
        "id": "QeFWDiGM4D6_"
      },
      "source": [
        "線性探測法\n",
        "\n"
      ]
    },
    {
      "cell_type": "code",
      "metadata": {
        "id": "HUijwh_KCJfK",
        "outputId": "edb7195f-5019-422d-feaf-0c27bf86bb5f",
        "colab": {
          "base_uri": "https://localhost:8080/",
          "height": 218
        }
      },
      "source": [
        "import random\n",
        "\n",
        "INDEXBOX = 10   #雜湊表最大元素\n",
        "MAXNUM = 7    #最大資料個數\n",
        "\n",
        "def print_data(data,max_number):   #列印陣列副程式\n",
        "  print(\"\\t\",end=\"\")\n",
        "  for i in range(max_number):\n",
        "    print(\"[%2d]\" %data[i],end=\"\")\n",
        "  print()\n",
        "\n",
        "def create_table(num,index):   #建立雜湊表副程式\n",
        "  tmp=num%INDEXBOX       #雜湊函數=資料%INDEXBOX\n",
        "  while True:\n",
        "    if index[tmp]==-1:   #如果資料對應的位置是空的\n",
        "      index[tmp]=num    #則直接存入資料\n",
        "      break\n",
        "    else:\n",
        "      tmp=(tmp+1)%INDEXBOX  #否則往後找位置存放\n",
        "\n",
        "#Main\n",
        "index=[None]*INDEXBOX\n",
        "data=[None]*MAXNUM\n",
        "\n",
        "print(\"原始陣列值\")\n",
        "for i in range(MAXNUM):      #起始資料值\n",
        "  data[i]=random.randint(1,20)\n",
        "for i in range(INDEXBOX):     #清除雜湊表\n",
        "  index[i]=-1\n",
        "print_data(data,MAXNUM)\n",
        "\n",
        "print(\"雜湊表內容：\")\n",
        "for i in range(MAXNUM):      #建立雜湊表\n",
        "  create_table(data[i],index)\n",
        "  print(\" %2d\" %data[i],end=\"\")   #列印單一元素的雜湊表位置\n",
        "  print_data(index,INDEXBOX)\n",
        "\n",
        "print(\"完成雜湊表\")\n",
        "print_data(index,INDEXBOX)    #列印最後完成結果"
      ],
      "execution_count": null,
      "outputs": [
        {
          "output_type": "stream",
          "text": [
            "原始陣列值\n",
            "\t[ 6][20][ 4][15][10][ 4][14]\n",
            "雜湊表內容：\n",
            "  6\t[-1][-1][-1][-1][-1][-1][ 6][-1][-1][-1]\n",
            " 20\t[20][-1][-1][-1][-1][-1][ 6][-1][-1][-1]\n",
            "  4\t[20][-1][-1][-1][ 4][-1][ 6][-1][-1][-1]\n",
            " 15\t[20][-1][-1][-1][ 4][15][ 6][-1][-1][-1]\n",
            " 10\t[20][10][-1][-1][ 4][15][ 6][-1][-1][-1]\n",
            "  4\t[20][10][-1][-1][ 4][15][ 6][ 4][-1][-1]\n",
            " 14\t[20][10][-1][-1][ 4][15][ 6][ 4][14][-1]\n",
            "完成雜湊表\n",
            "\t[20][10][-1][-1][ 4][15][ 6][ 4][14][-1]\n"
          ],
          "name": "stdout"
        }
      ]
    },
    {
      "cell_type": "markdown",
      "metadata": {
        "id": "Oqo4mFa44LIU"
      },
      "source": [
        "平方探測法"
      ]
    },
    {
      "cell_type": "code",
      "metadata": {
        "id": "U-JcFh-bFV3Z",
        "outputId": "45f87de2-490c-42ff-a395-2d96c6d32331",
        "colab": {
          "base_uri": "https://localhost:8080/",
          "height": 218
        }
      },
      "source": [
        "import random\n",
        "\n",
        "INDEXBOX = 7   #雜湊表最大元素，改成質數\n",
        "MAXNUM = 7    \n",
        "\n",
        "def print_data(data,max_number):   \n",
        "  print(\"\\t\",end=\"\")\n",
        "  for i in range(max_number):\n",
        "    print(\"[%2d]\" %data[i],end=\"\")\n",
        "  print()\n",
        "\n",
        "def create_table(num,index):   \n",
        "  tmp=num%INDEXBOX     \n",
        "  i=0     #還未有碰撞 因此為0\n",
        "  while True:\n",
        "    if index[tmp]==-1:  \n",
        "      index[tmp]=num    \n",
        "      break\n",
        "    else:\n",
        "      i=i+1                #碰撞次數+1\n",
        "      tmp=((num%INDEXBOX)+(i*i))%INDEXBOX #每次加上i平方，i代表第i次碰撞\n",
        "\n",
        "#Main\n",
        "index=[None]*INDEXBOX\n",
        "data=[None]*MAXNUM\n",
        "\n",
        "print(\"原始陣列值\")\n",
        "for i in range(MAXNUM):     \n",
        "  data[i]=random.randint(1,20)\n",
        "for i in range(INDEXBOX):     \n",
        "  index[i]=-1\n",
        "print_data(data,MAXNUM)\n",
        "\n",
        "print(\"雜湊表內容：\")\n",
        "for i in range(MAXNUM):     \n",
        "  create_table(data[i],index)\n",
        "  print(\" %2d\" %data[i],end=\"\")   \n",
        "  print_data(index,INDEXBOX)\n",
        "\n",
        "print(\"完成雜湊表\")\n",
        "print_data(index,INDEXBOX)   "
      ],
      "execution_count": 17,
      "outputs": [
        {
          "output_type": "stream",
          "text": [
            "原始陣列值\n",
            "\t[14][10][17][ 9][ 5][13][ 6]\n",
            "雜湊表內容：\n",
            " 14\t[14][-1][-1][-1][-1][-1][-1]\n",
            " 10\t[14][-1][-1][10][-1][-1][-1]\n",
            " 17\t[14][-1][-1][10][17][-1][-1]\n",
            "  9\t[14][-1][ 9][10][17][-1][-1]\n",
            "  5\t[14][-1][ 9][10][17][ 5][-1]\n",
            " 13\t[14][-1][ 9][10][17][ 5][13]\n",
            "  6\t[14][ 6][ 9][10][17][ 5][13]\n",
            "完成雜湊表\n",
            "\t[14][ 6][ 9][10][17][ 5][13]\n"
          ],
          "name": "stdout"
        }
      ]
    },
    {
      "cell_type": "markdown",
      "metadata": {
        "id": "5LpIGsgS47rR"
      },
      "source": [
        "再雜湊方法"
      ]
    },
    {
      "cell_type": "code",
      "metadata": {
        "id": "0-A-KcDf5Nub",
        "outputId": "51a13e46-d996-4aec-d0de-af0953aa9623",
        "colab": {
          "base_uri": "https://localhost:8080/",
          "height": 218
        }
      },
      "source": [
        "import random\n",
        "\n",
        "INDEXBOX = 10   \n",
        "MAXNUM = 7    \n",
        "\n",
        "def print_data(data,max_number):   \n",
        "  print(\"\\t\",end=\"\")\n",
        "  for i in range(max_number):\n",
        "    print(\"[%2d]\" %data[i],end=\"\")\n",
        "  print()\n",
        "\n",
        "def create_table(num,index):   \n",
        "  tmp=num%INDEXBOX     \n",
        "  i=0     #還未有碰撞 因此為0\n",
        "  while True:\n",
        "    if index[tmp]==-1:  \n",
        "      index[tmp]=num    \n",
        "      break\n",
        "    else:\n",
        "      i=i+1                #碰撞後+1\n",
        "      tmp=(num+(2*i))%INDEXBOX        #用num+2i重新再雜湊\n",
        "\n",
        "#Main\n",
        "index=[None]*INDEXBOX\n",
        "data=[None]*MAXNUM\n",
        "\n",
        "print(\"原始陣列值\")\n",
        "for i in range(MAXNUM):     \n",
        "  data[i]=random.randint(1,20)\n",
        "for i in range(INDEXBOX):     \n",
        "  index[i]=-1\n",
        "print_data(data,MAXNUM)\n",
        "\n",
        "print(\"雜湊表內容：\")\n",
        "for i in range(MAXNUM):     \n",
        "  create_table(data[i],index)\n",
        "  print(\" %2d\" %data[i],end=\"\")   \n",
        "  print_data(index,INDEXBOX)\n",
        "\n",
        "print(\"完成雜湊表\")\n",
        "print_data(index,INDEXBOX)   "
      ],
      "execution_count": 20,
      "outputs": [
        {
          "output_type": "stream",
          "text": [
            "原始陣列值\n",
            "\t[ 5][20][13][16][20][ 1][11]\n",
            "雜湊表內容：\n",
            "  5\t[-1][-1][-1][-1][-1][ 5][-1][-1][-1][-1]\n",
            " 20\t[20][-1][-1][-1][-1][ 5][-1][-1][-1][-1]\n",
            " 13\t[20][-1][-1][13][-1][ 5][-1][-1][-1][-1]\n",
            " 16\t[20][-1][-1][13][-1][ 5][16][-1][-1][-1]\n",
            " 20\t[20][-1][20][13][-1][ 5][16][-1][-1][-1]\n",
            "  1\t[20][ 1][20][13][-1][ 5][16][-1][-1][-1]\n",
            " 11\t[20][ 1][20][13][-1][ 5][16][11][-1][-1]\n",
            "完成雜湊表\n",
            "\t[20][ 1][20][13][-1][ 5][16][11][-1][-1]\n"
          ],
          "name": "stdout"
        }
      ]
    }
  ]
}