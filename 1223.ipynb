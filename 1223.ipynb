{
  "nbformat": 4,
  "nbformat_minor": 0,
  "metadata": {
    "colab": {
      "name": "1223.ipynb",
      "provenance": [],
      "authorship_tag": "ABX9TyP9mMliAVXuMk12wDEVFRfD",
      "include_colab_link": true
    },
    "kernelspec": {
      "name": "python3",
      "display_name": "Python 3"
    }
  },
  "cells": [
    {
      "cell_type": "markdown",
      "metadata": {
        "id": "view-in-github",
        "colab_type": "text"
      },
      "source": [
        "<a href=\"https://colab.research.google.com/github/wmy866/algorithm_test/blob/master/1223.ipynb\" target=\"_parent\"><img src=\"https://colab.research.google.com/assets/colab-badge.svg\" alt=\"Open In Colab\"/></a>"
      ]
    },
    {
      "cell_type": "markdown",
      "metadata": {
        "id": "4D55v77_ccPH"
      },
      "source": [
        "裝箱問題、裝箱最佳化 (bin packing problem) [1]\r\n",
        "\r\n",
        "---\r\n",
        "\r\n",
        "\r\n",
        "\r\n",
        "類型：NP-hard [2]\r\n",
        "\r\n",
        "---\r\n",
        "\r\n",
        "\r\n",
        "\r\n",
        "定義/解釋：現在有數個容量為C的箱子，以及N個容量為ci的物品 (1<=i<=N) ，試問在不超過箱子容量 (<=C) 的情況下，使用數量最少的箱子將所有的物品全都裝入箱子內。 [3]\r\n",
        "\r\n",
        "---\r\n",
        "\r\n",
        "\r\n",
        "\r\n",
        "是否為NP-C? 證明?：其判斷問題為NP-C問題\"是否存在一分配法使所需的箱子數量<=k? (k為常數)\"[3]\r\n",
        "假設有一物品集合 I = {1..n}，其中i屬於I有一個大小Si屬於(0,1]\r\n",
        "\r\n",
        "假設我們有一個箱子的集合 B = {1...n}，其中每個箱子能容納的總大小為1\r\n",
        "\r\n",
        "\r\n",
        "假設一答案是兩個箱子\r\n",
        "\r\n",
        "在這種情況下，尋找最優解被轉換成分區問題，所謂分區問題就是指將一個set分為和相等的兩部分。\r\n",
        "\r\n",
        "如果能找到和相等的兩部分，則正好填滿兩個箱子。\r\n",
        "\r\n",
        "已知分區問題是一個NP-complete，這樣我們就把一個已知的NP-complete規約為了裝箱問題。\r\n",
        "\r\n",
        "下面只需證明裝箱問題是一個NP (證明可在多項式複雜度時間裡驗證我們的解是正確的)\r\n",
        "\r\n",
        "既我們的每一個i只在一個箱子里出現了一次，每個箱子里物體大小相加不超過1，無論是哪步都很容易找到一多項式時間的演算法去驗證。\r\n",
        "\r\n",
        "對於第一步，利用哈希表可以o（n）解決，\r\n",
        "\r\n",
        "對於第二步，就是求sum，也可以o（n）解決 [4]\r\n",
        "\r\n",
        "\r\n",
        "---\r\n",
        "\r\n",
        "\r\n",
        "現有的演算法解：利用降序最佳適應演算法(BFD, Best Fit Decreasing)，先將所有物品照容量由大到小排序，再利用最佳適應演算法(BF, Best Fit)把選擇的物品放入最適合的箱子中，若沒有責令開箱子。 [5]\r\n",
        "\r\n",
        "\r\n",
        "---\r\n",
        "程式碼：\r\n"
      ]
    },
    {
      "cell_type": "code",
      "metadata": {
        "id": "Q7uOxzoyefxI"
      },
      "source": [
        "def get_min_boxes(things,box_weight):\r\n",
        "    things=sorted(things,reverse=True) #先將物品由大到小排列\r\n",
        "    print(\"\\n所有物品由容量的大到小排列：%s\" %things)\r\n",
        "    m=len(things)-1;count=0\r\n",
        "    for i in range(len(things)):\r\n",
        "        sum=0 #因還沒放入任何物品所以總值為0\r\n",
        "        print('{ ',end='')\r\n",
        "        sum=things[i] #先把第一個(最大)放入箱子\r\n",
        "        print(things[i],'',end='') #列出放入箱子的物品\r\n",
        "        while m>=0: #當還有未放入箱子的物品時\r\n",
        "            j=m \r\n",
        "            sum+=things[j] #總值再放入排序最後一個(目前最小的)的物品\r\n",
        "            if sum>box_weight: #如果總值超過箱子負荷容量\r\n",
        "                count+=1 #箱子數量直接+1\r\n",
        "                break\r\n",
        "            print(things[j],'',end='') #若在箱子承受之內則放入並顯示放入的物品\r\n",
        "            m-=1 #未放入的物品數量-1\r\n",
        "        if j==i:\r\n",
        "            print('}')\r\n",
        "            break\r\n",
        "        print('}')\r\n",
        " \r\n",
        "    print('\\n最少需要使用',count,'箱容量為',box_weight,'的箱子')\r\n",
        "if __name__=='__main__':\r\n",
        "    things = []\r\n",
        "    thing = int(input(\"請輸入物品重量(結束時請輸入-1：)\"))  #自行設定物品數量及容量\r\n",
        "    while thing != -1: #當輸入值不是-1時\r\n",
        "      things.append(thing) #將輸入的值放入things陣列\r\n",
        "      thing = int(input(\"請輸入物品重量(結束時請輸入-1：)\")) #輸入下一值 重複迴圈\r\n",
        "    box_weight=int(input(\"\\n請輸入箱子最大容量：\")) #自行設定箱子最大容量\r\n",
        "    get_min_boxes(things,box_weight)"
      ],
      "execution_count": null,
      "outputs": []
    },
    {
      "cell_type": "markdown",
      "metadata": {
        "id": "kuA-V8IBef89"
      },
      "source": [
        "---\r\n",
        "\r\n",
        "參考文獻：\r\n",
        "\r\n",
        "\r\n",
        "\r\n",
        "\r\n",
        "\r\n",
        "1.   [裝箱最佳化](https://zh.wikipedia.org/wiki/%E9%9B%86%E8%A3%85%E4%BC%98%E5%8C%96) - 維基百科，自由的百科全書\r\n",
        "2.   [Bin packing problem](https://en.wikipedia.org/wiki/Bin_packing_problem) - Wikipedia\r\n",
        "3.   [第7章_NP_完備理論](http://www.csd.nutn.edu.tw/Algorithm/Ch07.pdf)，臺南大學電腦輔助系統設計實驗室\r\n",
        "4.   [裝箱問題為什麼是NP完全的?](https://www.getit01.com/p20180521560435382/) - GetIt01\r\n",
        "5.   [裝箱問題近似演算法概述](https://www.itread01.com/content/1547228898.html) - IT閱讀\r\n",
        "\r\n",
        "\r\n",
        "\r\n"
      ]
    }
  ]
}