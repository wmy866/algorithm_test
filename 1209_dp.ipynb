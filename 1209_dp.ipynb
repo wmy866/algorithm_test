{
  "nbformat": 4,
  "nbformat_minor": 0,
  "metadata": {
    "colab": {
      "name": "1209_dp.ipynb",
      "provenance": [],
      "authorship_tag": "ABX9TyMi0cdhTAqrIwBdrE0wqI8c",
      "include_colab_link": true
    },
    "kernelspec": {
      "name": "python3",
      "display_name": "Python 3"
    }
  },
  "cells": [
    {
      "cell_type": "markdown",
      "metadata": {
        "id": "view-in-github",
        "colab_type": "text"
      },
      "source": [
        "<a href=\"https://colab.research.google.com/github/wmy866/algorithm_test/blob/master/1209_dp.ipynb\" target=\"_parent\"><img src=\"https://colab.research.google.com/assets/colab-badge.svg\" alt=\"Open In Colab\"/></a>"
      ]
    },
    {
      "cell_type": "code",
      "metadata": {
        "colab": {
          "base_uri": "https://localhost:8080/"
        },
        "id": "fznWxOqSWmS_",
        "outputId": "c5db1f53-92fe-4dcd-ef20-858eca8268af"
      },
      "source": [
        "def DPBottomUpCutRod(p, n):\r\n",
        "    r = [0]*(n+1)\r\n",
        "    for i in range(1, n+1):\r\n",
        "        if n == 0:\r\n",
        "            return 0\r\n",
        "        q =0\r\n",
        "        for j in range(1, i+1):\r\n",
        "            q = max(q, p[j]+r[i-j])\r\n",
        "            r[i] = q\r\n",
        "    return r[n],r\r\n",
        "    \r\n",
        "p=[0,1,5,8,9,10,17,17,20,24,30]   #價格表\r\n",
        "length = int(input(\"設定鐵條長度：\"))  #自行設定鐵條長度\r\n",
        "print(BottomUpCutRod(p, length))   #顯示每個切斷方法的總價格及最高價格\r\n"
      ],
      "execution_count": 17,
      "outputs": [
        {
          "output_type": "stream",
          "text": [
            "設定鐵條長度：7\n",
            "(18, [0, 1, 5, 8, 10, 13, 17, 18])\n"
          ],
          "name": "stdout"
        }
      ]
    }
  ]
}