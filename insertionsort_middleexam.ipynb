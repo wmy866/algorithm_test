{
  "nbformat": 4,
  "nbformat_minor": 0,
  "metadata": {
    "colab": {
      "name": "insertionsort.ipynb",
      "provenance": [],
      "collapsed_sections": [],
      "include_colab_link": true
    },
    "kernelspec": {
      "name": "python3",
      "display_name": "Python 3"
    }
  },
  "cells": [
    {
      "cell_type": "markdown",
      "metadata": {
        "id": "view-in-github",
        "colab_type": "text"
      },
      "source": [
        "<a href=\"https://colab.research.google.com/github/wmy866/algorithm_test/blob/master/insertionsort_middleexam.ipynb\" target=\"_parent\"><img src=\"https://colab.research.google.com/assets/colab-badge.svg\" alt=\"Open In Colab\"/></a>"
      ]
    },
    {
      "cell_type": "markdown",
      "metadata": {
        "id": "j95w6SLwOC0z"
      },
      "source": [
        "Insertion sort (插入排序) [期中作業]"
      ]
    },
    {
      "cell_type": "code",
      "metadata": {
        "id": "BxBaYEwzNj_v",
        "colab": {
          "base_uri": "https://localhost:8080/"
        },
        "outputId": "196b8933-8850-4acb-b40b-74c516bb0cc0"
      },
      "source": [
        "\n",
        "def Insertion_Sort(datas):\n",
        "    for i in range(1, len(datas)):  \n",
        "        for j in range(i):\n",
        "            current = datas[i]\n",
        "            if current < datas[j]:\n",
        "                for k in range(i,j):\n",
        "                  print(datas) \n",
        "    return datas\n",
        "\n",
        "\n",
        "def insertionSort(arr):\n",
        "    timenum = 0     #一變數設定次數\n",
        "    for i in range(len(arr)):\n",
        "        preIndex = i-1\n",
        "        current = arr[i]\n",
        "        while preIndex >= 0 and arr[preIndex] > current:\n",
        "            arr[preIndex+1] = arr[preIndex]\n",
        "            preIndex-=1\n",
        "        arr[preIndex+1] = current\n",
        "        timenum += 1                #排序次數+1次\n",
        "        print(\"第%d次排序：\"%timenum, arr)       #顯示此次排序結果     \n",
        "    return arr\n",
        "\n",
        "if __name__ == '__main__':\n",
        "    import random\n",
        "    rantimenum = 1      #執行隨機抽取數字次數\n",
        "    numlist = []       #建立一空串列\n",
        "    for rantimenum in range(8):    #設定隨機抽取數字8次\n",
        "      rannum = random.randint(0,100)    #隨機從0至100抽一數字\n",
        "      numlist.append(rannum)    #將抽取到的數字新增至串列中\n",
        "    print(\"原始數列：\", numlist)\n",
        "    print()\n",
        "    numlist2 = numlist.copy()\n",
        "\n",
        "    arr = insertionSort(numlist)\n",
        "    print('---'*20)\n",
        "    Insertion_Sort(numlist2)"
      ],
      "execution_count": 6,
      "outputs": [
        {
          "output_type": "stream",
          "text": [
            "原始數列： [47, 100, 24, 57, 95, 14, 42, 38]\n",
            "\n",
            "第1次排序： [47, 100, 24, 57, 95, 14, 42, 38]\n",
            "第2次排序： [47, 100, 24, 57, 95, 14, 42, 38]\n",
            "第3次排序： [24, 47, 100, 57, 95, 14, 42, 38]\n",
            "第4次排序： [24, 47, 57, 100, 95, 14, 42, 38]\n",
            "第5次排序： [24, 47, 57, 95, 100, 14, 42, 38]\n",
            "第6次排序： [14, 24, 47, 57, 95, 100, 42, 38]\n",
            "第7次排序： [14, 24, 42, 47, 57, 95, 100, 38]\n",
            "第8次排序： [14, 24, 38, 42, 47, 57, 95, 100]\n",
            "------------------------------------------------------------\n"
          ],
          "name": "stdout"
        }
      ]
    }
  ]
}