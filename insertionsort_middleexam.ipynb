{
  "nbformat": 4,
  "nbformat_minor": 0,
  "metadata": {
    "colab": {
      "name": "insertionsort.ipynb",
      "provenance": [],
      "collapsed_sections": [],
      "include_colab_link": true
    },
    "kernelspec": {
      "name": "python3",
      "display_name": "Python 3"
    }
  },
  "cells": [
    {
      "cell_type": "markdown",
      "metadata": {
        "id": "view-in-github",
        "colab_type": "text"
      },
      "source": [
        "<a href=\"https://colab.research.google.com/github/wmy866/algorithm_test/blob/master/insertionsort_middleexam.ipynb\" target=\"_parent\"><img src=\"https://colab.research.google.com/assets/colab-badge.svg\" alt=\"Open In Colab\"/></a>"
      ]
    },
    {
      "cell_type": "markdown",
      "metadata": {
        "id": "j95w6SLwOC0z"
      },
      "source": [
        "Insertion sort (插入排序)"
      ]
    },
    {
      "cell_type": "code",
      "metadata": {
        "id": "BxBaYEwzNj_v",
        "colab": {
          "base_uri": "https://localhost:8080/",
          "height": 302
        },
        "outputId": "6be60187-1330-40e0-ef10-1a1c21b5aee8"
      },
      "source": [
        "\n",
        "def Insertion_Sort(datas):\n",
        "    for i in range(1, len(datas)):       \n",
        "        for j in range(i):         \n",
        "            current = datas[i]         \n",
        "            if current < datas[j]:       \n",
        "                for k in range(i,j):     \n",
        "                  print(datas)     \n",
        "    return datas                  \n",
        "\n",
        "\n",
        "def insertionSort(arr):\n",
        "    for i in range(len(arr)):\n",
        "        preIndex = i-1\n",
        "        current = arr[i]\n",
        "        while preIndex >= 0 and arr[preIndex] > current:\n",
        "            arr[preIndex+1] = arr[preIndex]\n",
        "            preIndex-=1\n",
        "        arr[preIndex+1] = current\n",
        "        print(arr)\n",
        "    return arr\n",
        "\n",
        "\n",
        "import random\n",
        "a = list(range(16))\n",
        "random.shuffle(a)\n",
        "b = a.copy()\n",
        "\n",
        "arr = insertionSort(a)\n",
        "print('---'*20)\n",
        "Insertion_Sort(b)"
      ],
      "execution_count": null,
      "outputs": [
        {
          "output_type": "stream",
          "text": [
            "[10, 3, 12, 11, 6, 4, 8, 13, 7, 1, 9, 5, 0, 14, 2, 15]\n",
            "[3, 10, 12, 11, 6, 4, 8, 13, 7, 1, 9, 5, 0, 14, 2, 15]\n",
            "[3, 10, 12, 11, 6, 4, 8, 13, 7, 1, 9, 5, 0, 14, 2, 15]\n",
            "[3, 10, 11, 12, 6, 4, 8, 13, 7, 1, 9, 5, 0, 14, 2, 15]\n",
            "[3, 6, 10, 11, 12, 4, 8, 13, 7, 1, 9, 5, 0, 14, 2, 15]\n",
            "[3, 4, 6, 10, 11, 12, 8, 13, 7, 1, 9, 5, 0, 14, 2, 15]\n",
            "[3, 4, 6, 8, 10, 11, 12, 13, 7, 1, 9, 5, 0, 14, 2, 15]\n",
            "[3, 4, 6, 8, 10, 11, 12, 13, 7, 1, 9, 5, 0, 14, 2, 15]\n",
            "[3, 4, 6, 7, 8, 10, 11, 12, 13, 1, 9, 5, 0, 14, 2, 15]\n",
            "[1, 3, 4, 6, 7, 8, 10, 11, 12, 13, 9, 5, 0, 14, 2, 15]\n",
            "[1, 3, 4, 6, 7, 8, 9, 10, 11, 12, 13, 5, 0, 14, 2, 15]\n",
            "[1, 3, 4, 5, 6, 7, 8, 9, 10, 11, 12, 13, 0, 14, 2, 15]\n",
            "[0, 1, 3, 4, 5, 6, 7, 8, 9, 10, 11, 12, 13, 14, 2, 15]\n",
            "[0, 1, 3, 4, 5, 6, 7, 8, 9, 10, 11, 12, 13, 14, 2, 15]\n",
            "[0, 1, 2, 3, 4, 5, 6, 7, 8, 9, 10, 11, 12, 13, 14, 15]\n",
            "[0, 1, 2, 3, 4, 5, 6, 7, 8, 9, 10, 11, 12, 13, 14, 15]\n",
            "------------------------------------------------------------\n"
          ],
          "name": "stdout"
        }
      ]
    }
  ]
}