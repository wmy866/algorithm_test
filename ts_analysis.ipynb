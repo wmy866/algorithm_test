{
  "nbformat": 4,
  "nbformat_minor": 0,
  "metadata": {
    "colab": {
      "name": "ts_analysis.ipynb",
      "provenance": [],
      "authorship_tag": "ABX9TyM/7D0rmbsqZK0FwGOLSsDt",
      "include_colab_link": true
    },
    "kernelspec": {
      "name": "python3",
      "display_name": "Python 3"
    }
  },
  "cells": [
    {
      "cell_type": "markdown",
      "metadata": {
        "id": "view-in-github",
        "colab_type": "text"
      },
      "source": [
        "<a href=\"https://colab.research.google.com/github/wmy866/algorithm_test/blob/master/ts_analysis.ipynb\" target=\"_parent\"><img src=\"https://colab.research.google.com/assets/colab-badge.svg\" alt=\"Open In Colab\"/></a>"
      ]
    },
    {
      "cell_type": "markdown",
      "metadata": {
        "id": "B6sRm_WLWQC7"
      },
      "source": [
        "例如：如何判斷某年是不是閏年？"
      ]
    },
    {
      "cell_type": "markdown",
      "metadata": {
        "id": "P9jTIFS2WUSp"
      },
      "source": [
        "*   ⽅法⼀(時間複雜度)*：寫⼀個演算法，每給⼀個年份，就可以通過該演算法計算得到是否閏年的結果*"
      ]
    },
    {
      "cell_type": "code",
      "metadata": {
        "id": "cNADB5UQWIdE"
      },
      "source": [
        "year = int(input(\"請輸入一年份:\"))    #使用者輸入年份並將內容轉為int(整數)\n",
        "if (year % 4 == 0 and year % 400 == 0) or (year % 4 == 0 and year % 100 != 0):   #判斷是否為閏年(為4跟400倍數或為4倍數但不為100倍數)\n",
        "  print(\"%d是閏年\" % year)     #顯示查詢的年份為閏年\n",
        "else:\n",
        "  print(\"%d不是閏年\" % year)            #不是閏年"
      ],
      "execution_count": null,
      "outputs": []
    },
    {
      "cell_type": "markdown",
      "metadata": {
        "id": "WsTpVoVyWXIV"
      },
      "source": [
        "*   ⽅法⼆(空間複雜度)：*先建立⼀個所有年份的陣列，然後把所有的年份按下標的數字對應；\n",
        "如果是閏年，則此陣列元素的值是1，如果不是元素的值則為0。\n",
        "這樣，所謂的判斷某⼀年是否為閏年就變成了查詢這個陣列某⼀個元\n",
        "素的值的問題* (設題目範圍限制於2020-2040年"
      ]
    },
    {
      "cell_type": "code",
      "metadata": {
        "id": "Eb01K2M_WZ1z"
      },
      "source": [
        "LeapYear = []     #建立一空串列\n",
        "Year = [2020,2021,2022,2023,2024,2025,2026,2027,2028,2029,2030,2031,2032,2033,2034,2035,2036,2037,2038,2039,2040]  #建立所有年份串列\n",
        "i=0           #設一變數\n",
        "while i < 21:      #將Year串列元素文字轉為int 再用while判斷每一元素是否為閏年 \n",
        "  if (int(Year[i]) % 4 == 0 and int(Year[i]) % 400 == 0) or (int(Year[i]) % 4 == 0 and int(Year[i]) % 100 != 0):\n",
        "    LeapYear.insert(i,int(True))   #是閏年則在LeapYear中最後新增一元素為True的int - 1\n",
        "    i += 1             #i+1後繼續重新執行while迴圈直到等於21\n",
        "  else:\n",
        "    LeapYear.insert(i,int(False))  #非閏年則在LeapYear中最後新增一元素為False的int - 0\n",
        "    i += 1\n",
        "#print(LeapYear)             #驗證LeapYear的閏年是否正確\n",
        "InputYear = int(input(\"請輸入2020-2040之間其一年分:\"))   \n",
        "SearchYear = InputYear - 2020        #使用者輸入的年份轉為int後扣掉2020去查出此年份是串列裡第幾個元素\n",
        "if (int(LeapYear[SearchYear]) == 1 ):    #將LeapYear轉為int後用是否等於1去判斷是否為閏年\n",
        "  print(\"%d是閏年\" % InputYear)\n",
        "else:\n",
        "  print(\"%d不是閏年\" % InputYear)"
      ],
      "execution_count": null,
      "outputs": []
    }
  ]
}