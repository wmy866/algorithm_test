{
  "nbformat": 4,
  "nbformat_minor": 0,
  "metadata": {
    "colab": {
      "name": "ts_analysis.ipynb",
      "provenance": [],
      "authorship_tag": "ABX9TyMzYXQnUL/tqQqn6GcJ29n6",
      "include_colab_link": true
    },
    "kernelspec": {
      "name": "python3",
      "display_name": "Python 3"
    }
  },
  "cells": [
    {
      "cell_type": "markdown",
      "metadata": {
        "id": "view-in-github",
        "colab_type": "text"
      },
      "source": [
        "<a href=\"https://colab.research.google.com/github/wmy866/algorithm_test/blob/master/ts_analysis.ipynb\" target=\"_parent\"><img src=\"https://colab.research.google.com/assets/colab-badge.svg\" alt=\"Open In Colab\"/></a>"
      ]
    },
    {
      "cell_type": "code",
      "metadata": {
        "id": "robPCpGV3Gk8"
      },
      "source": [
        "years = int(input(\"請輸入一年份:\"))"
      ],
      "execution_count": null,
      "outputs": []
    },
    {
      "cell_type": "markdown",
      "metadata": {
        "id": "as_AcGiXGz89"
      },
      "source": [
        "例如：如何判斷某年是不是閏年？\n",
        "• ⽅法⼀\n",
        "寫⼀個演算法，每給⼀個年份，就可以通過該演算法計算得到是否閏\n",
        "年的結果\n",
        "• ⽅法⼆\n",
        "先建立⼀個所有年份的陣列，然後把所有的年份按下標的數字對應；\n",
        "如果是閏年，則此陣列元素的值是1，如果不是元素的值則為0。\n",
        "這樣，所謂的判斷某⼀年是否為閏年就變成了查詢這個陣列某⼀個元\n",
        "素的值的問題"
      ]
    }
  ]
}