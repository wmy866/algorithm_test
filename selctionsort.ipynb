{
  "nbformat": 4,
  "nbformat_minor": 0,
  "metadata": {
    "colab": {
      "name": "selctionsort.ipynb",
      "provenance": [],
      "collapsed_sections": [],
      "include_colab_link": true
    },
    "kernelspec": {
      "name": "python3",
      "display_name": "Python 3"
    }
  },
  "cells": [
    {
      "cell_type": "markdown",
      "metadata": {
        "id": "view-in-github",
        "colab_type": "text"
      },
      "source": [
        "<a href=\"https://colab.research.google.com/github/wmy866/algorithm_test/blob/master/selctionsort.ipynb\" target=\"_parent\"><img src=\"https://colab.research.google.com/assets/colab-badge.svg\" alt=\"Open In Colab\"/></a>"
      ]
    },
    {
      "cell_type": "markdown",
      "metadata": {
        "id": "W-Z0kMaDLJOp",
        "colab_type": "text"
      },
      "source": [
        "Selection sort (選擇排序)"
      ]
    },
    {
      "cell_type": "code",
      "metadata": {
        "id": "8tM3sv79HQ_V",
        "colab_type": "code",
        "colab": {}
      },
      "source": [
        "def Selction_Sort(datas):\n",
        "    for i in range(len(datas)-1):\n",
        "        min = i # 第一次選從第一個數開始,第二次從第二個數開始\n",
        "        for j in range(i+1, len(datas)):    # 用記錄的max數與其他的比較\n",
        "            if datas[j] < datas[min]:\n",
        "                min = j\n",
        "\n",
        "        datas[i], datas[min] = datas[min], datas[i]\n",
        "\n",
        "        print(datas)\n",
        "        print('---'*10)\n",
        "    return datas\n",
        "\n",
        "\n",
        "if __name__ == '__main__':\n",
        "    import random\n",
        "    a = list(range(10))\n",
        "    random.shuffle(a)\n",
        "    print(a)\n",
        "    a = Selction_Sort(a)\n",
        "    print(a)"
      ],
      "execution_count": null,
      "outputs": []
    },
    {
      "cell_type": "markdown",
      "metadata": {
        "id": "MiWPt8bALDN5",
        "colab_type": "text"
      },
      "source": [
        "請加入註解\n"
      ]
    }
  ]
}